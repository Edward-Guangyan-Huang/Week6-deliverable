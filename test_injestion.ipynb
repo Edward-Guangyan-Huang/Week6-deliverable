{
 "cells": [
  {
   "cell_type": "code",
   "execution_count": 12,
   "id": "bcdf32c0",
   "metadata": {},
   "outputs": [
    {
     "name": "stdout",
     "output_type": "stream",
     "text": [
      "Overwriting testutility.py\n"
     ]
    }
   ],
   "source": [
    "%%writefile testutility.py\n",
    "import logging\n",
    "import os\n",
    "import subprocess\n",
    "import yaml\n",
    "import pandas as pd\n",
    "import datetime \n",
    "import gc\n",
    "import re\n",
    "\n",
    "\n",
    "################\n",
    "# File Reading #\n",
    "################\n",
    "\n",
    "def read_config_file(filepath):\n",
    "    with open(filepath, 'r') as stream:\n",
    "        try:\n",
    "            return yaml.safe_load(stream)\n",
    "        except yaml.YAMLError as exc:\n",
    "            logging.error(exc)\n",
    "\n",
    "\n",
    "def replacer(string, char):\n",
    "    pattern = char + '{2,}'\n",
    "    string = re.sub(pattern, char, string) \n",
    "    return string\n",
    "\n",
    "def col_header_val(df,table_config):\n",
    "    '''\n",
    "    replace whitespaces in the column\n",
    "    and standardized column names\n",
    "    '''\n",
    "    df.columns = df.columns.str.lower()\n",
    "    df.columns = df.columns.str.replace('[^\\w]','_',regex=True)\n",
    "    df.columns = list(map(lambda x: x.strip('_'), list(df.columns)))\n",
    "    df.columns = list(map(lambda x: replacer(x,'_'), list(df.columns)))\n",
    "    expected_col = list(map(lambda x: x.lower(),  table_config['columns']))\n",
    "    expected_col.sort()\n",
    "    df.columns =list(map(lambda x: x.lower(), list(df.columns)))\n",
    "    df = df.reindex(sorted(df.columns), axis=1)\n",
    "    if len(df.columns) == len(expected_col) and list(expected_col)  == list(df.columns):\n",
    "        print(\"column name and column length validation passed\")\n",
    "        return 1\n",
    "    else:\n",
    "        print(\"column name and column length validation failed\")\n",
    "        mismatched_columns_file = list(set(df.columns).difference(expected_col))\n",
    "        print(\"Following File columns are not in the YAML file\",mismatched_columns_file)\n",
    "        missing_YAML_file = list(set(expected_col).difference(df.columns))\n",
    "        print(\"Following YAML columns are not in the file uploaded\",missing_YAML_file)\n",
    "        logging.info(f'df columns: {df.columns}')\n",
    "        logging.info(f'expected columns: {expected_col}')\n",
    "        return 0"
   ]
  },
  {
   "cell_type": "markdown",
   "id": "e14c1a02",
   "metadata": {},
   "source": [
    "# Trying different approaches of opening the 9GB + csv file"
   ]
  },
  {
   "cell_type": "code",
   "execution_count": 13,
   "id": "58785406",
   "metadata": {},
   "outputs": [],
   "source": [
    "import os\n",
    "import time"
   ]
  },
  {
   "cell_type": "code",
   "execution_count": 14,
   "id": "7b6316c0",
   "metadata": {},
   "outputs": [
    {
     "data": {
      "text/plain": [
       "4544707885"
      ]
     },
     "execution_count": 14,
     "metadata": {},
     "output_type": "execute_result"
    }
   ],
   "source": [
    "#Size of the file\n",
    "os.path.getsize('custom_1988_2020.csv')"
   ]
  },
  {
   "cell_type": "code",
   "execution_count": 15,
   "id": "bbc0a0c4",
   "metadata": {},
   "outputs": [
    {
     "name": "stdout",
     "output_type": "stream",
     "text": [
      "Read csv with dask:  0.009428977966308594 sec\n"
     ]
    }
   ],
   "source": [
    "# Approach one: using dask to read the file\n",
    "from dask import dataframe as dd\n",
    "start = time.time()\n",
    "dask_df = dd.read_csv('custom_1988_2020.csv')\n",
    "end = time.time()\n",
    "print(\"Read csv with dask: \",(end-start),\"sec\")"
   ]
  },
  {
   "cell_type": "code",
   "execution_count": 16,
   "id": "4c0bda84",
   "metadata": {},
   "outputs": [
    {
     "name": "stdout",
     "output_type": "stream",
     "text": [
      "Read csv with pandas:  45.63984537124634 sec\n"
     ]
    }
   ],
   "source": [
    "# Approach two: using pandas to read the file\n",
    "import pandas as pd\n",
    "start = time.time()\n",
    "pandas_df = pd.read_csv('custom_1988_2020.csv')\n",
    "end = time.time()\n",
    "print(\"Read csv with pandas: \",(end-start),\"sec\")"
   ]
  },
  {
   "cell_type": "markdown",
   "id": "55649085",
   "metadata": {},
   "source": [
    "We can clearly see that pandas takes far more time than dask."
   ]
  },
  {
   "cell_type": "markdown",
   "id": "63058c30",
   "metadata": {},
   "source": [
    "Unfortunately on my device which uses windows OS, the package ray is not available."
   ]
  },
  {
   "cell_type": "markdown",
   "id": "374c6951",
   "metadata": {},
   "source": [
    "# Create the YAML file"
   ]
  },
  {
   "cell_type": "code",
   "execution_count": 17,
   "id": "5c4d4ab7",
   "metadata": {},
   "outputs": [
    {
     "name": "stdout",
     "output_type": "stream",
     "text": [
      "Overwriting file.yaml\n"
     ]
    }
   ],
   "source": [
    "%%writefile file.yaml\n",
    "file_type: csv\n",
    "dataset_name: custom_1988_2020\n",
    "file_name: custom_1988_2020\n",
    "table_name: custom_1988_2020\n",
    "inbound_delimiter: \",\"\n",
    "outbound_delimiter: \"|\"\n",
    "skip_leading_rows: 1\n",
    "columns: \n",
    "    - Year_and_Month\n",
    "    - exp_imp\n",
    "    - hs9\n",
    "    - Customs\n",
    "    - Country\n",
    "    - Q1\n",
    "    - Q2\n",
    "    - Value"
   ]
  },
  {
   "cell_type": "code",
   "execution_count": 18,
   "id": "47042ec3",
   "metadata": {},
   "outputs": [],
   "source": [
    "import testutility as util\n",
    "config_data = util.read_config_file(\"file.yaml\")"
   ]
  },
  {
   "cell_type": "code",
   "execution_count": 19,
   "id": "bba4c4a0",
   "metadata": {},
   "outputs": [
    {
     "data": {
      "text/plain": [
       "{'file_type': 'csv',\n",
       " 'dataset_name': 'custom_1988_2020',\n",
       " 'file_name': 'custom_1988_2020',\n",
       " 'table_name': 'custom_1988_2020',\n",
       " 'inbound_delimiter': ',',\n",
       " 'outbound_delimiter': '|',\n",
       " 'skip_leading_rows': 1,\n",
       " 'columns': ['Year_and_Month',\n",
       "  'exp_imp',\n",
       "  'hs9',\n",
       "  'Customs',\n",
       "  'Country',\n",
       "  'Q1',\n",
       "  'Q2',\n",
       "  'Value']}"
      ]
     },
     "execution_count": 19,
     "metadata": {},
     "output_type": "execute_result"
    }
   ],
   "source": [
    "config_data"
   ]
  },
  {
   "cell_type": "markdown",
   "id": "c0d9f009",
   "metadata": {},
   "source": [
    "# Validation"
   ]
  },
  {
   "cell_type": "code",
   "execution_count": 20,
   "id": "0d3c533b",
   "metadata": {},
   "outputs": [
    {
     "name": "stderr",
     "output_type": "stream",
     "text": [
      "C:\\Users\\HGY\\AppData\\Local\\Temp\\ipykernel_4376\\73410374.py:6: FutureWarning: In a future version of pandas all arguments of read_csv except for the argument 'filepath_or_buffer' will be keyword-only.\n",
      "  df = pd.read_csv(source_file,config_data['inbound_delimiter'])\n"
     ]
    },
    {
     "data": {
      "text/html": [
       "<div>\n",
       "<style scoped>\n",
       "    .dataframe tbody tr th:only-of-type {\n",
       "        vertical-align: middle;\n",
       "    }\n",
       "\n",
       "    .dataframe tbody tr th {\n",
       "        vertical-align: top;\n",
       "    }\n",
       "\n",
       "    .dataframe thead th {\n",
       "        text-align: right;\n",
       "    }\n",
       "</style>\n",
       "<table border=\"1\" class=\"dataframe\">\n",
       "  <thead>\n",
       "    <tr style=\"text-align: right;\">\n",
       "      <th></th>\n",
       "      <th>198801</th>\n",
       "      <th>1</th>\n",
       "      <th>103</th>\n",
       "      <th>100</th>\n",
       "      <th>000000190</th>\n",
       "      <th>0</th>\n",
       "      <th>35843</th>\n",
       "      <th>34353</th>\n",
       "    </tr>\n",
       "  </thead>\n",
       "  <tbody>\n",
       "    <tr>\n",
       "      <th>0</th>\n",
       "      <td>198801</td>\n",
       "      <td>1</td>\n",
       "      <td>103</td>\n",
       "      <td>100</td>\n",
       "      <td>120991000</td>\n",
       "      <td>0</td>\n",
       "      <td>1590</td>\n",
       "      <td>4154</td>\n",
       "    </tr>\n",
       "    <tr>\n",
       "      <th>1</th>\n",
       "      <td>198801</td>\n",
       "      <td>1</td>\n",
       "      <td>103</td>\n",
       "      <td>100</td>\n",
       "      <td>210390900</td>\n",
       "      <td>0</td>\n",
       "      <td>4500</td>\n",
       "      <td>2565</td>\n",
       "    </tr>\n",
       "    <tr>\n",
       "      <th>2</th>\n",
       "      <td>198801</td>\n",
       "      <td>1</td>\n",
       "      <td>103</td>\n",
       "      <td>100</td>\n",
       "      <td>220890200</td>\n",
       "      <td>0</td>\n",
       "      <td>3000</td>\n",
       "      <td>757</td>\n",
       "    </tr>\n",
       "    <tr>\n",
       "      <th>3</th>\n",
       "      <td>198801</td>\n",
       "      <td>1</td>\n",
       "      <td>103</td>\n",
       "      <td>100</td>\n",
       "      <td>240220000</td>\n",
       "      <td>0</td>\n",
       "      <td>26000</td>\n",
       "      <td>40668</td>\n",
       "    </tr>\n",
       "    <tr>\n",
       "      <th>4</th>\n",
       "      <td>198801</td>\n",
       "      <td>1</td>\n",
       "      <td>103</td>\n",
       "      <td>100</td>\n",
       "      <td>250410000</td>\n",
       "      <td>0</td>\n",
       "      <td>5</td>\n",
       "      <td>8070</td>\n",
       "    </tr>\n",
       "  </tbody>\n",
       "</table>\n",
       "</div>"
      ],
      "text/plain": [
       "   198801  1  103  100  000000190  0  35843  34353\n",
       "0  198801  1  103  100  120991000  0   1590   4154\n",
       "1  198801  1  103  100  210390900  0   4500   2565\n",
       "2  198801  1  103  100  220890200  0   3000    757\n",
       "3  198801  1  103  100  240220000  0  26000  40668\n",
       "4  198801  1  103  100  250410000  0      5   8070"
      ]
     },
     "execution_count": 20,
     "metadata": {},
     "output_type": "execute_result"
    }
   ],
   "source": [
    "# read the file using config file\n",
    "file_type = config_data['file_type']\n",
    "source_file = \"./\" + config_data['file_name'] + f'.{file_type}'\n",
    "#print(\"\",source_file)\n",
    "import pandas as pd\n",
    "df = pd.read_csv(source_file,config_data['inbound_delimiter'])\n",
    "df.head()"
   ]
  },
  {
   "cell_type": "code",
   "execution_count": 21,
   "id": "7349eb37",
   "metadata": {},
   "outputs": [
    {
     "data": {
      "text/html": [
       "<div>\n",
       "<style scoped>\n",
       "    .dataframe tbody tr th:only-of-type {\n",
       "        vertical-align: middle;\n",
       "    }\n",
       "\n",
       "    .dataframe tbody tr th {\n",
       "        vertical-align: top;\n",
       "    }\n",
       "\n",
       "    .dataframe thead th {\n",
       "        text-align: right;\n",
       "    }\n",
       "</style>\n",
       "<table border=\"1\" class=\"dataframe\">\n",
       "  <thead>\n",
       "    <tr style=\"text-align: right;\">\n",
       "      <th></th>\n",
       "      <th>Year_and_Month</th>\n",
       "      <th>exp_imp</th>\n",
       "      <th>hs9</th>\n",
       "      <th>Customs</th>\n",
       "      <th>Country</th>\n",
       "      <th>Q1</th>\n",
       "      <th>Q2</th>\n",
       "      <th>Value</th>\n",
       "    </tr>\n",
       "  </thead>\n",
       "  <tbody>\n",
       "    <tr>\n",
       "      <th>0</th>\n",
       "      <td>198801</td>\n",
       "      <td>1</td>\n",
       "      <td>103</td>\n",
       "      <td>100</td>\n",
       "      <td>120991000</td>\n",
       "      <td>0</td>\n",
       "      <td>1590</td>\n",
       "      <td>4154</td>\n",
       "    </tr>\n",
       "    <tr>\n",
       "      <th>1</th>\n",
       "      <td>198801</td>\n",
       "      <td>1</td>\n",
       "      <td>103</td>\n",
       "      <td>100</td>\n",
       "      <td>210390900</td>\n",
       "      <td>0</td>\n",
       "      <td>4500</td>\n",
       "      <td>2565</td>\n",
       "    </tr>\n",
       "    <tr>\n",
       "      <th>2</th>\n",
       "      <td>198801</td>\n",
       "      <td>1</td>\n",
       "      <td>103</td>\n",
       "      <td>100</td>\n",
       "      <td>220890200</td>\n",
       "      <td>0</td>\n",
       "      <td>3000</td>\n",
       "      <td>757</td>\n",
       "    </tr>\n",
       "    <tr>\n",
       "      <th>3</th>\n",
       "      <td>198801</td>\n",
       "      <td>1</td>\n",
       "      <td>103</td>\n",
       "      <td>100</td>\n",
       "      <td>240220000</td>\n",
       "      <td>0</td>\n",
       "      <td>26000</td>\n",
       "      <td>40668</td>\n",
       "    </tr>\n",
       "    <tr>\n",
       "      <th>4</th>\n",
       "      <td>198801</td>\n",
       "      <td>1</td>\n",
       "      <td>103</td>\n",
       "      <td>100</td>\n",
       "      <td>250410000</td>\n",
       "      <td>0</td>\n",
       "      <td>5</td>\n",
       "      <td>8070</td>\n",
       "    </tr>\n",
       "  </tbody>\n",
       "</table>\n",
       "</div>"
      ],
      "text/plain": [
       "   Year_and_Month  exp_imp  hs9  Customs    Country  Q1     Q2  Value\n",
       "0          198801        1  103      100  120991000   0   1590   4154\n",
       "1          198801        1  103      100  210390900   0   4500   2565\n",
       "2          198801        1  103      100  220890200   0   3000    757\n",
       "3          198801        1  103      100  240220000   0  26000  40668\n",
       "4          198801        1  103      100  250410000   0      5   8070"
      ]
     },
     "execution_count": 21,
     "metadata": {},
     "output_type": "execute_result"
    }
   ],
   "source": [
    "custom_1988_2020 = df.rename(columns={\"198801\": \"Year_and_Month\", \"1\": \"exp_imp\", \"103\": \"hs9\", \"100\": \"Customs\", \"000000190\": \"Country\", \"0\":\"Q1\", \"35843\": \"Q2\", \"34353\":\"Value\"})\n",
    "custom_1988_2020.head()"
   ]
  },
  {
   "cell_type": "code",
   "execution_count": 10,
   "id": "cd43d471",
   "metadata": {},
   "outputs": [
    {
     "name": "stdout",
     "output_type": "stream",
     "text": [
      "column name and column length validation passed\n"
     ]
    },
    {
     "data": {
      "text/plain": [
       "1"
      ]
     },
     "execution_count": 10,
     "metadata": {},
     "output_type": "execute_result"
    }
   ],
   "source": [
    "util.col_header_val(custom_1988_2020,config_data)"
   ]
  },
  {
   "cell_type": "code",
   "execution_count": 11,
   "id": "1acadd35",
   "metadata": {},
   "outputs": [],
   "source": [
    "# Construct the gz file"
   ]
  },
  {
   "cell_type": "code",
   "execution_count": 11,
   "id": "18411fe1",
   "metadata": {},
   "outputs": [],
   "source": [
    "import datetime\n",
    "import csv\n",
    "import gzip\n",
    "\n",
    "\n",
    "# Write csv in gz format in pipe separated text file (|)\n",
    "custom_1988_2020.to_csv('custom_1988_2020.csv.gz',\n",
    "                         sep='|',\n",
    "                         header=True,\n",
    "                         index=False,\n",
    "                         quoting=csv.QUOTE_ALL,\n",
    "                         compression='gzip',\n",
    "                         quotechar='\"',\n",
    "                         doublequote=True,\n",
    "                         lineterminator='\\n')\n"
   ]
  },
  {
   "cell_type": "code",
   "execution_count": 11,
   "id": "7a2d8d37",
   "metadata": {},
   "outputs": [
    {
     "data": {
      "text/plain": [
       "1135699983"
      ]
     },
     "execution_count": 11,
     "metadata": {},
     "output_type": "execute_result"
    }
   ],
   "source": [
    "#number of files in gz format folder\n",
    "import os\n",
    "os.path.getsize('G:/data_glacier/wk6/custom_1988_2020.csv.gz')"
   ]
  },
  {
   "cell_type": "code",
   "execution_count": 23,
   "id": "bab089ec",
   "metadata": {},
   "outputs": [
    {
     "name": "stdout",
     "output_type": "stream",
     "text": [
      "<class 'pandas.core.frame.DataFrame'>\n",
      "RangeIndex: 113607321 entries, 0 to 113607320\n",
      "Data columns (total 8 columns):\n",
      " #   Column          Dtype\n",
      "---  ------          -----\n",
      " 0   Year_and_Month  int64\n",
      " 1   exp_imp         int64\n",
      " 2   hs9             int64\n",
      " 3   Customs         int64\n",
      " 4   Country         int64\n",
      " 5   Q1              int64\n",
      " 6   Q2              int64\n",
      " 7   Value           int64\n",
      "dtypes: int64(8)\n",
      "memory usage: 6.8 GB\n"
     ]
    }
   ],
   "source": [
    "custom_1988_2020.info()"
   ]
  }
 ],
 "metadata": {
  "kernelspec": {
   "display_name": "b_soup",
   "language": "python",
   "name": "b_soup"
  },
  "language_info": {
   "codemirror_mode": {
    "name": "ipython",
    "version": 3
   },
   "file_extension": ".py",
   "mimetype": "text/x-python",
   "name": "python",
   "nbconvert_exporter": "python",
   "pygments_lexer": "ipython3",
   "version": "3.10.4"
  }
 },
 "nbformat": 4,
 "nbformat_minor": 5
}
